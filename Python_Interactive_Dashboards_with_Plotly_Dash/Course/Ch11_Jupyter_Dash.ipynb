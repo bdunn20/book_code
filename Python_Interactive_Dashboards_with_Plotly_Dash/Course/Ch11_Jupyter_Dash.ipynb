{
 "cells": [
  {
   "cell_type": "markdown",
   "metadata": {},
   "source": [
    "# Intro to Jupyter Dash"
   ]
  },
  {
   "cell_type": "markdown",
   "metadata": {},
   "source": [
    "### Install/import"
   ]
  },
  {
   "cell_type": "code",
   "execution_count": 1,
   "metadata": {},
   "outputs": [
    {
     "name": "stdout",
     "output_type": "stream",
     "text": [
      "Collecting jupyter-dash\n",
      "  Downloading jupyter_dash-0.4.2-py3-none-any.whl (23 kB)\n",
      "Requirement already satisfied: nest-asyncio in /Users/barrettdunn/anaconda3/lib/python3.10/site-packages (from jupyter-dash) (1.5.6)\n",
      "Requirement already satisfied: ipython in /Users/barrettdunn/anaconda3/lib/python3.10/site-packages (from jupyter-dash) (8.10.0)\n",
      "Requirement already satisfied: dash in /Users/barrettdunn/anaconda3/lib/python3.10/site-packages (from jupyter-dash) (2.13.0)\n",
      "Requirement already satisfied: ansi2html in /Users/barrettdunn/anaconda3/lib/python3.10/site-packages (from jupyter-dash) (1.8.0)\n",
      "Requirement already satisfied: flask in /Users/barrettdunn/anaconda3/lib/python3.10/site-packages (from jupyter-dash) (2.2.2)\n",
      "Requirement already satisfied: ipykernel in /Users/barrettdunn/anaconda3/lib/python3.10/site-packages (from jupyter-dash) (6.19.2)\n",
      "Requirement already satisfied: retrying in /Users/barrettdunn/anaconda3/lib/python3.10/site-packages (from jupyter-dash) (1.3.4)\n",
      "Requirement already satisfied: requests in /Users/barrettdunn/anaconda3/lib/python3.10/site-packages (from jupyter-dash) (2.31.0)\n",
      "Requirement already satisfied: Werkzeug<2.3.0 in /Users/barrettdunn/anaconda3/lib/python3.10/site-packages (from dash->jupyter-dash) (2.2.2)\n",
      "Requirement already satisfied: typing-extensions>=4.1.1 in /Users/barrettdunn/anaconda3/lib/python3.10/site-packages (from dash->jupyter-dash) (4.4.0)\n",
      "Requirement already satisfied: dash-table==5.0.0 in /Users/barrettdunn/anaconda3/lib/python3.10/site-packages (from dash->jupyter-dash) (5.0.0)\n",
      "Requirement already satisfied: dash-html-components==2.0.0 in /Users/barrettdunn/anaconda3/lib/python3.10/site-packages (from dash->jupyter-dash) (2.0.0)\n",
      "Requirement already satisfied: plotly>=5.0.0 in /Users/barrettdunn/anaconda3/lib/python3.10/site-packages (from dash->jupyter-dash) (5.9.0)\n",
      "Requirement already satisfied: dash-core-components==2.0.0 in /Users/barrettdunn/anaconda3/lib/python3.10/site-packages (from dash->jupyter-dash) (2.0.0)\n",
      "Requirement already satisfied: setuptools in /Users/barrettdunn/anaconda3/lib/python3.10/site-packages (from dash->jupyter-dash) (65.6.3)\n",
      "Requirement already satisfied: click>=8.0 in /Users/barrettdunn/anaconda3/lib/python3.10/site-packages (from flask->jupyter-dash) (8.0.4)\n",
      "Requirement already satisfied: Jinja2>=3.0 in /Users/barrettdunn/anaconda3/lib/python3.10/site-packages (from flask->jupyter-dash) (3.1.2)\n",
      "Requirement already satisfied: itsdangerous>=2.0 in /Users/barrettdunn/anaconda3/lib/python3.10/site-packages (from flask->jupyter-dash) (2.0.1)\n",
      "Requirement already satisfied: jupyter-client>=6.1.12 in /Users/barrettdunn/anaconda3/lib/python3.10/site-packages (from ipykernel->jupyter-dash) (7.3.4)\n",
      "Requirement already satisfied: debugpy>=1.0 in /Users/barrettdunn/anaconda3/lib/python3.10/site-packages (from ipykernel->jupyter-dash) (1.5.1)\n",
      "Requirement already satisfied: tornado>=6.1 in /Users/barrettdunn/anaconda3/lib/python3.10/site-packages (from ipykernel->jupyter-dash) (6.1)\n",
      "Requirement already satisfied: appnope in /Users/barrettdunn/anaconda3/lib/python3.10/site-packages (from ipykernel->jupyter-dash) (0.1.2)\n",
      "Requirement already satisfied: packaging in /Users/barrettdunn/anaconda3/lib/python3.10/site-packages (from ipykernel->jupyter-dash) (22.0)\n",
      "Requirement already satisfied: traitlets>=5.4.0 in /Users/barrettdunn/anaconda3/lib/python3.10/site-packages (from ipykernel->jupyter-dash) (5.7.1)\n",
      "Requirement already satisfied: comm>=0.1.1 in /Users/barrettdunn/anaconda3/lib/python3.10/site-packages (from ipykernel->jupyter-dash) (0.1.2)\n",
      "Requirement already satisfied: matplotlib-inline>=0.1 in /Users/barrettdunn/anaconda3/lib/python3.10/site-packages (from ipykernel->jupyter-dash) (0.1.6)\n",
      "Requirement already satisfied: psutil in /Users/barrettdunn/anaconda3/lib/python3.10/site-packages (from ipykernel->jupyter-dash) (5.9.0)\n",
      "Requirement already satisfied: pyzmq>=17 in /Users/barrettdunn/anaconda3/lib/python3.10/site-packages (from ipykernel->jupyter-dash) (23.2.0)\n",
      "Requirement already satisfied: decorator in /Users/barrettdunn/anaconda3/lib/python3.10/site-packages (from ipython->jupyter-dash) (5.1.1)\n",
      "Requirement already satisfied: jedi>=0.16 in /Users/barrettdunn/anaconda3/lib/python3.10/site-packages (from ipython->jupyter-dash) (0.18.1)\n",
      "Requirement already satisfied: pexpect>4.3 in /Users/barrettdunn/anaconda3/lib/python3.10/site-packages (from ipython->jupyter-dash) (4.8.0)\n",
      "Requirement already satisfied: prompt-toolkit<3.1.0,>=3.0.30 in /Users/barrettdunn/anaconda3/lib/python3.10/site-packages (from ipython->jupyter-dash) (3.0.36)\n",
      "Requirement already satisfied: stack-data in /Users/barrettdunn/anaconda3/lib/python3.10/site-packages (from ipython->jupyter-dash) (0.2.0)\n",
      "Requirement already satisfied: pygments>=2.4.0 in /Users/barrettdunn/anaconda3/lib/python3.10/site-packages (from ipython->jupyter-dash) (2.11.2)\n",
      "Requirement already satisfied: backcall in /Users/barrettdunn/anaconda3/lib/python3.10/site-packages (from ipython->jupyter-dash) (0.2.0)\n",
      "Requirement already satisfied: pickleshare in /Users/barrettdunn/anaconda3/lib/python3.10/site-packages (from ipython->jupyter-dash) (0.7.5)\n",
      "Requirement already satisfied: certifi>=2017.4.17 in /Users/barrettdunn/anaconda3/lib/python3.10/site-packages (from requests->jupyter-dash) (2022.12.7)\n",
      "Requirement already satisfied: charset-normalizer<4,>=2 in /Users/barrettdunn/anaconda3/lib/python3.10/site-packages (from requests->jupyter-dash) (2.0.4)\n",
      "Requirement already satisfied: idna<4,>=2.5 in /Users/barrettdunn/anaconda3/lib/python3.10/site-packages (from requests->jupyter-dash) (3.4)\n",
      "Requirement already satisfied: urllib3<3,>=1.21.1 in /Users/barrettdunn/anaconda3/lib/python3.10/site-packages (from requests->jupyter-dash) (1.26.14)\n",
      "Requirement already satisfied: six>=1.7.0 in /Users/barrettdunn/anaconda3/lib/python3.10/site-packages (from retrying->jupyter-dash) (1.16.0)\n",
      "Requirement already satisfied: parso<0.9.0,>=0.8.0 in /Users/barrettdunn/anaconda3/lib/python3.10/site-packages (from jedi>=0.16->ipython->jupyter-dash) (0.8.3)\n",
      "Requirement already satisfied: MarkupSafe>=2.0 in /Users/barrettdunn/anaconda3/lib/python3.10/site-packages (from Jinja2>=3.0->flask->jupyter-dash) (2.1.1)\n",
      "Requirement already satisfied: python-dateutil>=2.8.2 in /Users/barrettdunn/anaconda3/lib/python3.10/site-packages (from jupyter-client>=6.1.12->ipykernel->jupyter-dash) (2.8.2)\n",
      "Requirement already satisfied: entrypoints in /Users/barrettdunn/anaconda3/lib/python3.10/site-packages (from jupyter-client>=6.1.12->ipykernel->jupyter-dash) (0.4)\n",
      "Requirement already satisfied: jupyter-core>=4.9.2 in /Users/barrettdunn/anaconda3/lib/python3.10/site-packages (from jupyter-client>=6.1.12->ipykernel->jupyter-dash) (5.2.0)\n",
      "Requirement already satisfied: ptyprocess>=0.5 in /Users/barrettdunn/anaconda3/lib/python3.10/site-packages (from pexpect>4.3->ipython->jupyter-dash) (0.7.0)\n",
      "Requirement already satisfied: tenacity>=6.2.0 in /Users/barrettdunn/anaconda3/lib/python3.10/site-packages (from plotly>=5.0.0->dash->jupyter-dash) (8.0.1)\n",
      "Requirement already satisfied: wcwidth in /Users/barrettdunn/anaconda3/lib/python3.10/site-packages (from prompt-toolkit<3.1.0,>=3.0.30->ipython->jupyter-dash) (0.2.5)\n",
      "Requirement already satisfied: asttokens in /Users/barrettdunn/anaconda3/lib/python3.10/site-packages (from stack-data->ipython->jupyter-dash) (2.0.5)\n",
      "Requirement already satisfied: pure-eval in /Users/barrettdunn/anaconda3/lib/python3.10/site-packages (from stack-data->ipython->jupyter-dash) (0.2.2)\n",
      "Requirement already satisfied: executing in /Users/barrettdunn/anaconda3/lib/python3.10/site-packages (from stack-data->ipython->jupyter-dash) (0.8.3)\n",
      "Requirement already satisfied: platformdirs>=2.5 in /Users/barrettdunn/anaconda3/lib/python3.10/site-packages (from jupyter-core>=4.9.2->jupyter-client>=6.1.12->ipykernel->jupyter-dash) (2.5.2)\n",
      "Installing collected packages: jupyter-dash\n",
      "Successfully installed jupyter-dash-0.4.2\n"
     ]
    }
   ],
   "source": [
    "! pip install jupyter-dash"
   ]
  },
  {
   "cell_type": "code",
   "execution_count": 2,
   "metadata": {},
   "outputs": [],
   "source": [
    "from jupyter_dash import JupyterDash # replaces from dash import Dash\n",
    "from dash import html, dcc, Input, Output\n",
    "import pandas as pd\n",
    "import plotly.express as px"
   ]
  },
  {
   "cell_type": "markdown",
   "metadata": {},
   "source": [
    "### Load data & EDA"
   ]
  },
  {
   "cell_type": "code",
   "execution_count": 3,
   "metadata": {},
   "outputs": [
    {
     "data": {
      "text/html": [
       "<div>\n",
       "<style scoped>\n",
       "    .dataframe tbody tr th:only-of-type {\n",
       "        vertical-align: middle;\n",
       "    }\n",
       "\n",
       "    .dataframe tbody tr th {\n",
       "        vertical-align: top;\n",
       "    }\n",
       "\n",
       "    .dataframe thead th {\n",
       "        text-align: right;\n",
       "    }\n",
       "</style>\n",
       "<table border=\"1\" class=\"dataframe\">\n",
       "  <thead>\n",
       "    <tr style=\"text-align: right;\">\n",
       "      <th></th>\n",
       "      <th>country</th>\n",
       "      <th>region</th>\n",
       "      <th>happiness_rank</th>\n",
       "      <th>happiness_score</th>\n",
       "      <th>year</th>\n",
       "    </tr>\n",
       "  </thead>\n",
       "  <tbody>\n",
       "    <tr>\n",
       "      <th>0</th>\n",
       "      <td>Australia</td>\n",
       "      <td>Australia and New Zealand</td>\n",
       "      <td>10</td>\n",
       "      <td>7.284</td>\n",
       "      <td>2015</td>\n",
       "    </tr>\n",
       "    <tr>\n",
       "      <th>1</th>\n",
       "      <td>Australia</td>\n",
       "      <td>Australia and New Zealand</td>\n",
       "      <td>9</td>\n",
       "      <td>7.313</td>\n",
       "      <td>2016</td>\n",
       "    </tr>\n",
       "    <tr>\n",
       "      <th>2</th>\n",
       "      <td>Australia</td>\n",
       "      <td>Australia and New Zealand</td>\n",
       "      <td>10</td>\n",
       "      <td>7.284</td>\n",
       "      <td>2017</td>\n",
       "    </tr>\n",
       "    <tr>\n",
       "      <th>3</th>\n",
       "      <td>Australia</td>\n",
       "      <td>Australia and New Zealand</td>\n",
       "      <td>10</td>\n",
       "      <td>7.272</td>\n",
       "      <td>2018</td>\n",
       "    </tr>\n",
       "    <tr>\n",
       "      <th>4</th>\n",
       "      <td>Australia</td>\n",
       "      <td>Australia and New Zealand</td>\n",
       "      <td>11</td>\n",
       "      <td>7.228</td>\n",
       "      <td>2019</td>\n",
       "    </tr>\n",
       "  </tbody>\n",
       "</table>\n",
       "</div>"
      ],
      "text/plain": [
       "     country                     region  happiness_rank  happiness_score  year\n",
       "0  Australia  Australia and New Zealand              10            7.284  2015\n",
       "1  Australia  Australia and New Zealand               9            7.313  2016\n",
       "2  Australia  Australia and New Zealand              10            7.284  2017\n",
       "3  Australia  Australia and New Zealand              10            7.272  2018\n",
       "4  Australia  Australia and New Zealand              11            7.228  2019"
      ]
     },
     "execution_count": 3,
     "metadata": {},
     "output_type": "execute_result"
    }
   ],
   "source": [
    "happiness = pd.read_csv('world_happiness.csv')\n",
    "happiness.head()"
   ]
  },
  {
   "cell_type": "code",
   "execution_count": 5,
   "metadata": {},
   "outputs": [
    {
     "name": "stdout",
     "output_type": "stream",
     "text": [
      "<class 'pandas.core.frame.DataFrame'>\n",
      "RangeIndex: 1088 entries, 0 to 1087\n",
      "Data columns (total 5 columns):\n",
      " #   Column           Non-Null Count  Dtype  \n",
      "---  ------           --------------  -----  \n",
      " 0   country          1088 non-null   object \n",
      " 1   region           1088 non-null   object \n",
      " 2   happiness_rank   1088 non-null   int64  \n",
      " 3   happiness_score  1088 non-null   float64\n",
      " 4   year             1088 non-null   int64  \n",
      "dtypes: float64(1), int64(2), object(2)\n",
      "memory usage: 42.6+ KB\n"
     ]
    }
   ],
   "source": [
    "happiness.info()"
   ]
  },
  {
   "cell_type": "markdown",
   "metadata": {},
   "source": [
    "### Build the app"
   ]
  },
  {
   "cell_type": "code",
   "execution_count": 6,
   "metadata": {},
   "outputs": [
    {
     "name": "stderr",
     "output_type": "stream",
     "text": [
      "/Users/barrettdunn/anaconda3/lib/python3.10/site-packages/dash/dash.py:525: UserWarning:\n",
      "\n",
      "JupyterDash is deprecated, use Dash instead.\n",
      "See https://dash.plotly.com/dash-in-jupyter for more details.\n",
      "\n"
     ]
    }
   ],
   "source": [
    "app = JupyterDash() # replaces app = Dash()\n",
    "\n",
    "# code below here is same as using Dash"
   ]
  }
 ],
 "metadata": {
  "kernelspec": {
   "display_name": "base",
   "language": "python",
   "name": "python3"
  },
  "language_info": {
   "codemirror_mode": {
    "name": "ipython",
    "version": 3
   },
   "file_extension": ".py",
   "mimetype": "text/x-python",
   "name": "python",
   "nbconvert_exporter": "python",
   "pygments_lexer": "ipython3",
   "version": "3.10.9"
  }
 },
 "nbformat": 4,
 "nbformat_minor": 2
}
