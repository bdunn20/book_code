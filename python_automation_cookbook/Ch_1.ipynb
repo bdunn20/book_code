{
  "nbformat": 4,
  "nbformat_minor": 0,
  "metadata": {
    "colab": {
      "provenance": [],
      "authorship_tag": "ABX9TyPDyXaADZFJLyzP4UhZ/vKg",
      "include_colab_link": true
    },
    "kernelspec": {
      "name": "python3",
      "display_name": "Python 3"
    },
    "language_info": {
      "name": "python"
    }
  },
  "cells": [
    {
      "cell_type": "markdown",
      "metadata": {
        "id": "view-in-github",
        "colab_type": "text"
      },
      "source": [
        "<a href=\"https://colab.research.google.com/github/bdunn20/book_code/blob/main/python_automation_cookbook/Ch_1.ipynb\" target=\"_parent\"><img src=\"https://colab.research.google.com/assets/colab-badge.svg\" alt=\"Open In Colab\"/></a>"
      ]
    },
    {
      "cell_type": "code",
      "execution_count": 1,
      "metadata": {
        "id": "ERAP53ibJtgQ",
        "colab": {
          "base_uri": "https://localhost:8080/"
        },
        "outputId": "e498d14c-d3b8-4a3e-da4c-42d87468be8d"
      },
      "outputs": [
        {
          "output_type": "stream",
          "name": "stdout",
          "text": [
            "The Zen of Python, by Tim Peters\n",
            "\n",
            "Beautiful is better than ugly.\n",
            "Explicit is better than implicit.\n",
            "Simple is better than complex.\n",
            "Complex is better than complicated.\n",
            "Flat is better than nested.\n",
            "Sparse is better than dense.\n",
            "Readability counts.\n",
            "Special cases aren't special enough to break the rules.\n",
            "Although practicality beats purity.\n",
            "Errors should never pass silently.\n",
            "Unless explicitly silenced.\n",
            "In the face of ambiguity, refuse the temptation to guess.\n",
            "There should be one-- and preferably only one --obvious way to do it.\n",
            "Although that way may not be obvious at first unless you're Dutch.\n",
            "Now is better than never.\n",
            "Although never is often better than *right* now.\n",
            "If the implementation is hard to explain, it's a bad idea.\n",
            "If the implementation is easy to explain, it may be a good idea.\n",
            "Namespaces are one honking great idea -- let's do more of those!\n"
          ]
        }
      ],
      "source": [
        "# zen of python\n",
        "import this"
      ]
    },
    {
      "cell_type": "code",
      "source": [
        "# the venv module sets up a local virtual environment\n",
        "# none of the installed dependencies will be shared with the Python interpreter\n",
        "# installed on the machine, creating an isolated environment\n",
        "# in Python 3, the venv tool is installed as part of the standard library\n"
      ],
      "metadata": {
        "id": "zc0TUyZ0Kf5n"
      },
      "execution_count": null,
      "outputs": []
    }
  ]
}