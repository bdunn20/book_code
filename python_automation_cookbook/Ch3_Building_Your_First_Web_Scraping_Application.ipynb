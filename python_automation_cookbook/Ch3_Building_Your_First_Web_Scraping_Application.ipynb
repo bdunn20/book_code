{
  "nbformat": 4,
  "nbformat_minor": 0,
  "metadata": {
    "colab": {
      "provenance": [],
      "authorship_tag": "ABX9TyO1FZiQUe3hCMMonMaKXHAF",
      "include_colab_link": true
    },
    "kernelspec": {
      "name": "python3",
      "display_name": "Python 3"
    },
    "language_info": {
      "name": "python"
    }
  },
  "cells": [
    {
      "cell_type": "markdown",
      "metadata": {
        "id": "view-in-github",
        "colab_type": "text"
      },
      "source": [
        "<a href=\"https://colab.research.google.com/github/bdunn20/book_code/blob/main/python_automation_cookbook/Ch3_Building_Your_First_Web_Scraping_Application.ipynb\" target=\"_parent\"><img src=\"https://colab.research.google.com/assets/colab-badge.svg\" alt=\"Open In Colab\"/></a>"
      ]
    },
    {
      "cell_type": "markdown",
      "source": [
        "# Downloading Web Pages"
      ],
      "metadata": {
        "id": "poopNSWqM3Ou"
      }
    },
    {
      "cell_type": "code",
      "execution_count": null,
      "metadata": {
        "id": "Oy-7MRu5MqKS"
      },
      "outputs": [],
      "source": []
    }
  ]
}