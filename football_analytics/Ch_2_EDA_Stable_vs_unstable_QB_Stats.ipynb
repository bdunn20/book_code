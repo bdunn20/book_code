{
 "cells": [
  {
   "cell_type": "markdown",
   "id": "7c45804a",
   "metadata": {},
   "source": [
    "# Chapter 2 - Exploratory Data Analysis\n",
    "## Stable versus unstable QB statistics"
   ]
  },
  {
   "cell_type": "markdown",
   "id": "8772d95d",
   "metadata": {},
   "source": [
    "Stability is important when evaluating anything, especially in sports. Stability is important when evaluating anything, especially in sports. This is because stability measures provide a comparative way to determine how much of a skill is fundamental to the player - how much of what happened in a given setting is transferable to another setting - and how much of past performance can be attributed to variance.\n",
    "\n",
    "In the words of FiveThirtyEight founder Nate Silver: \"Stability analysis helps us tease apart what is signal and what is noise.\"\n",
    "\n",
    "If a player does very well in the stable components of football but poorly in the unstable ones, they might be a buy-low candidate - a player who is underrated in the marketplace. The opposite, a player who performs well in the unstable metrics but poorly in the stable ones, might be a sell-high player.\n",
    "\n",
    "Exact definitions of stability vary based on specific contexts, but in this book we refer to the stability of an evaluation metric as the metric's consistency over a predetermined time frame. For example, for fantasy football analysts, that time frame might be week to week, while for an analyst building a draft model for a team, it might be from a player's final few seasons in college to his first few seasons as a pro.\n",
    "\n",
    "### Defining Questions\n",
    "\n",
    "Asking the right questions is as important as solving them. Learning to ask the right question is a process honed by learning from asking the wrong questions. Positive results are the spoils earned from fighting through countless negative results.\n",
    "\n",
    "To be scientific, a question needs to be about a hypothesis that is both testable and falsifiable. For example, \"Throwing deep passes is more valuable than short passes, but it's difficult to say whether or not a QB is good at deep passes\" is a reasonable hypothesis, but to make it scientific, you need to define what \"valuable\" means and what you mean when we say a player is \"good\" (or \"bad\") at deep passes. To that aim, you need data.\n",
    "\n",
    "### Obtaining and Filtering Data"
   ]
  },
  {
   "cell_type": "code",
   "execution_count": 1,
   "id": "8ac00788",
   "metadata": {},
   "outputs": [],
   "source": [
    "import pandas as pd\n",
    "import numpy as np\n",
    "import nfl_data_py as nfl"
   ]
  },
  {
   "cell_type": "code",
   "execution_count": 2,
   "id": "1c472e5b",
   "metadata": {},
   "outputs": [
    {
     "name": "stdout",
     "output_type": "stream",
     "text": [
      "2016 done.\n",
      "2017 done.\n",
      "2018 done.\n",
      "2019 done.\n",
      "2020 done.\n",
      "2021 done.\n",
      "2022 done.\n",
      "Downcasting floats.\n"
     ]
    }
   ],
   "source": [
    "seasons = range(2016, 2022 + 1)\n",
    "pbp_py = nfl.import_pbp_data(seasons)"
   ]
  },
  {
   "cell_type": "code",
   "execution_count": 3,
   "id": "9a61e436",
   "metadata": {},
   "outputs": [],
   "source": [
    "# filter to only passing plays\n",
    "pbp_py_p = pbp_py.query(\"play_type == 'pass' & air_yards.notnull()\").reset_index()"
   ]
  },
  {
   "cell_type": "code",
   "execution_count": 4,
   "id": "5906cd58",
   "metadata": {},
   "outputs": [],
   "source": [
    "# long pass >= 20 air yards\n",
    "# short pass < 20 air yards\n",
    "# replace incomplete passing yards (from NULL to 0)\n",
    "pbp_py_p[\"pass_length_air_yards\"] = np.where(pbp_py_p[\"air_yards\"] >= 20,\n",
    "                                            \"long\", \"short\")\n",
    "\n",
    "pbp_py_p[\"passing_yards\"] = np.where(pbp_py_p[\"passing_yards\"].isnull(),\n",
    "                                    0, pbp_py_p[\"passing_yards\"])"
   ]
  },
  {
   "cell_type": "code",
   "execution_count": 5,
   "id": "14feb0d4",
   "metadata": {},
   "outputs": [
    {
     "data": {
      "text/plain": [
       "count    131606.000000\n",
       "mean          7.192111\n",
       "std           9.667647\n",
       "min         -20.000000\n",
       "25%           0.000000\n",
       "50%           5.000000\n",
       "75%          11.000000\n",
       "max          98.000000\n",
       "Name: passing_yards, dtype: float64"
      ]
     },
     "execution_count": 5,
     "metadata": {},
     "output_type": "execute_result"
    }
   ],
   "source": [
    "pbp_py_p[\"passing_yards\"].describe()"
   ]
  },
  {
   "cell_type": "code",
   "execution_count": 6,
   "id": "d7a2baf5",
   "metadata": {},
   "outputs": [
    {
     "data": {
      "text/plain": [
       "count    116087.000000\n",
       "mean          6.526812\n",
       "std           7.695791\n",
       "min         -20.000000\n",
       "25%           0.000000\n",
       "50%           5.000000\n",
       "75%          10.000000\n",
       "max          95.000000\n",
       "Name: passing_yards, dtype: float64"
      ]
     },
     "execution_count": 6,
     "metadata": {},
     "output_type": "execute_result"
    }
   ],
   "source": [
    "# summarize short passes\n",
    "pbp_py_p.query('pass_length_air_yards == \"short\"')[\"passing_yards\"].describe()"
   ]
  },
  {
   "cell_type": "code",
   "execution_count": 7,
   "id": "f4fe2f20",
   "metadata": {},
   "outputs": [
    {
     "data": {
      "text/plain": [
       "count    15519.000000\n",
       "mean        12.168761\n",
       "std         17.923370\n",
       "min          0.000000\n",
       "25%          0.000000\n",
       "50%          0.000000\n",
       "75%         26.000000\n",
       "max         98.000000\n",
       "Name: passing_yards, dtype: float64"
      ]
     },
     "execution_count": 7,
     "metadata": {},
     "output_type": "execute_result"
    }
   ],
   "source": [
    "# summarize long passes\n",
    "pbp_py_p.query('pass_length_air_yards == \"long\"')[\"passing_yards\"].describe()"
   ]
  },
  {
   "cell_type": "code",
   "execution_count": 8,
   "id": "9f26b07c",
   "metadata": {},
   "outputs": [
    {
     "data": {
      "text/plain": [
       "count    116086.000000\n",
       "mean          0.119606\n",
       "std           1.426229\n",
       "min         -13.031219\n",
       "25%          -0.606135\n",
       "50%          -0.002100\n",
       "75%           0.959107\n",
       "max           8.241420\n",
       "Name: epa, dtype: float64"
      ]
     },
     "execution_count": 8,
     "metadata": {},
     "output_type": "execute_result"
    }
   ],
   "source": [
    "# summarize short pass EPA\n",
    "pbp_py_p.query('pass_length_air_yards == \"short\"')[\"epa\"].describe()"
   ]
  },
  {
   "cell_type": "code",
   "execution_count": 9,
   "id": "c886d63b",
   "metadata": {},
   "outputs": [
    {
     "data": {
      "text/plain": [
       "count    15519.000000\n",
       "mean         0.382649\n",
       "std          2.185549\n",
       "min        -10.477921\n",
       "25%         -0.827421\n",
       "50%         -0.465344\n",
       "75%          2.136431\n",
       "max          8.789743\n",
       "Name: epa, dtype: float64"
      ]
     },
     "execution_count": 9,
     "metadata": {},
     "output_type": "execute_result"
    }
   ],
   "source": [
    "# summarize long pass EPA\n",
    "pbp_py_p.query('pass_length_air_yards == \"long\"')[\"epa\"].describe()"
   ]
  },
  {
   "cell_type": "markdown",
   "id": "8e68b3d0",
   "metadata": {},
   "source": [
    "### Plotting Data"
   ]
  },
  {
   "cell_type": "code",
   "execution_count": 10,
   "id": "bcd1ba9d",
   "metadata": {},
   "outputs": [],
   "source": [
    "import seaborn as sns\n",
    "import matplotlib.pyplot as plt"
   ]
  },
  {
   "cell_type": "code",
   "execution_count": 11,
   "id": "37e544c7",
   "metadata": {},
   "outputs": [
    {
     "data": {
      "image/png": "[encoded data removed]",
      "text/plain": [
       "<Figure size 500x500 with 1 Axes>"
      ]
     },
     "metadata": {},
     "output_type": "display_data"
    }
   ],
   "source": [
    "sns.displot(data=pbp_py, x=\"passing_yards\")\n",
    "plt.show()"
   ]
  },
  {
   "cell_type": "code",
   "execution_count": 12,
   "id": "94b89d8c",
   "metadata": {},
   "outputs": [],
   "source": [
    "sns.set_theme(style=\"whitegrid\", palette=\"colorblind\")\n",
    "\n",
    "# filter short passes\n",
    "pbp_py_p_short = pbp_py_p.query('pass_length_air_yards == \"short\"')"
   ]
  },
  {
   "cell_type": "code",
   "execution_count": 13,
   "id": "a9ec8786",
   "metadata": {},
   "outputs": [
    {
     "data": {
      "image/png": "[encoded data removed]",
      "text/plain": [
       "<Figure size 500x500 with 1 Axes>"
      ]
     },
     "metadata": {},
     "output_type": "display_data"
    }
   ],
   "source": [
    "# create histogram & change labels\n",
    "pbp_py_hist_short = sns.displot(data=pbp_py_p_short, binwidth=1,\n",
    "                             x=\"passing_yards\")\n",
    "pbp_py_hist_short.set_axis_labels(\n",
    "    \"Yards gained (or lost) during a passing play\", \"Count\")\n",
    "plt.show()"
   ]
  },
  {
   "cell_type": "code",
   "execution_count": 1,
   "id": "ee3f1b5f",
   "metadata": {},
   "outputs": [
    {
     "ename": "NameError",
     "evalue": "name 'sns' is not defined",
     "output_type": "error",
     "traceback": [
      "\u001b[0;31m---------------------------------------------------------------------------\u001b[0m",
      "\u001b[0;31mNameError\u001b[0m                                 Traceback (most recent call last)",
      "Cell \u001b[0;32mIn[1], line 2\u001b[0m\n\u001b[1;32m      1\u001b[0m \u001b[38;5;66;03m# repeat above w/ EPA\u001b[39;00m\n\u001b[0;32m----> 2\u001b[0m pbp_py_hist_short \u001b[38;5;241m=\u001b[39m \u001b[43msns\u001b[49m\u001b[38;5;241m.\u001b[39mdisplot(data\u001b[38;5;241m=\u001b[39mpbp_py_p_short, binwidth\u001b[38;5;241m=\u001b[39m\u001b[38;5;241m1\u001b[39m,\n\u001b[1;32m      3\u001b[0m                              x\u001b[38;5;241m=\u001b[39m\u001b[38;5;124m\"\u001b[39m\u001b[38;5;124mepa\u001b[39m\u001b[38;5;124m\"\u001b[39m)\n\u001b[1;32m      4\u001b[0m pbp_py_hist_short\u001b[38;5;241m.\u001b[39mset_axis_labels(\n\u001b[1;32m      5\u001b[0m     \u001b[38;5;124m\"\u001b[39m\u001b[38;5;124mYards gained (or lost) during a passing play\u001b[39m\u001b[38;5;124m\"\u001b[39m, \u001b[38;5;124m\"\u001b[39m\u001b[38;5;124mCount\u001b[39m\u001b[38;5;124m\"\u001b[39m)\n\u001b[1;32m      6\u001b[0m plt\u001b[38;5;241m.\u001b[39mshow()\n",
      "\u001b[0;31mNameError\u001b[0m: name 'sns' is not defined"
     ]
    }
   ],
   "source": [
    "# repeat above w/ EPA\n",
    "pbp_py_hist_short = sns.displot(data=pbp_py_p_short, binwidth=1,\n",
    "                             x=\"epa\")\n",
    "pbp_py_hist_short.set_axis_labels(\n",
    "    \"Yards gained (or lost) during a passing play\", \"Count\")\n",
    "plt.show()"
   ]
  },
  {
   "cell_type": "code",
   "execution_count": 15,
   "id": "b6003223",
   "metadata": {},
   "outputs": [
    {
     "data": {
      "image/png": "[encoded data removed]",
      "text/plain": [
       "<Figure size 640x480 with 1 Axes>"
      ]
     },
     "metadata": {},
     "output_type": "display_data"
    }
   ],
   "source": [
    "# boxplot\n",
    "pass_boxplot = sns.boxplot(data=pbp_py_p, x=\"pass_length_air_yards\",\n",
    "                          y=\"passing_yards\")\n",
    "\n",
    "pass_boxplot.set(xlabel=\"Pass length (long >= 20 yards,\\\n",
    "                 short < 20 yards)\",\n",
    "                 ylabel=\"Yards gained (or lost) during a passing play\")\n",
    "plt.show()"
   ]
  },
  {
   "cell_type": "markdown",
   "id": "582e1276",
   "metadata": {},
   "source": [
    "### Player-level stability of passing yards per attempt"
   ]
  },
  {
   "cell_type": "code",
   "execution_count": 16,
   "id": "b0d017db",
   "metadata": {},
   "outputs": [],
   "source": [
    "# aggregate data by player and season\n",
    "pbp_py_p_s = pbp_py_p.groupby([\"passer_id\", \"passer\", \"season\"])\\\n",
    "                        .agg({\"passing_yards\": [\"mean\", \"count\"]})\n",
    "\n",
    "# collapse the columns to make the df easier to handle\n",
    "pbp_py_p_s.columns = list(map(\"_\".join, pbp_py_p_s.columns.values))"
   ]
  },
  {
   "cell_type": "code",
   "execution_count": 17,
   "id": "b7087b40",
   "metadata": {},
   "outputs": [],
   "source": [
    "# rename the columns to shorter, more intuitive names\n",
    "pbp_py_p_s.rename(columns={'passing_yards_mean': 'ypa',\n",
    "                          'passing_yards_count': 'n'},\n",
    "                 inplace=True)"
   ]
  },
  {
   "cell_type": "code",
   "execution_count": 18,
   "id": "d8d00a12",
   "metadata": {},
   "outputs": [],
   "source": [
    "# filter out players w/ < 100 passing attempts in a season\n",
    "pbp_py_p_s_100 = pbp_py_p_s.query(\"n >= 100\").sort_values(by=[\"ypa\"],\n",
    "                                                         ascending=False)"
   ]
  },
  {
   "cell_type": "code",
   "execution_count": 19,
   "id": "3fa0835e",
   "metadata": {},
   "outputs": [
    {
     "data": {
      "text/html": [
       "<div>\n",
       "<style scoped>\n",
       "    .dataframe tbody tr th:only-of-type {\n",
       "        vertical-align: middle;\n",
       "    }\n",
       "\n",
       "    .dataframe tbody tr th {\n",
       "        vertical-align: top;\n",
       "    }\n",
       "\n",
       "    .dataframe thead th {\n",
       "        text-align: right;\n",
       "    }\n",
       "</style>\n",
       "<table border=\"1\" class=\"dataframe\">\n",
       "  <thead>\n",
       "    <tr style=\"text-align: right;\">\n",
       "      <th></th>\n",
       "      <th></th>\n",
       "      <th></th>\n",
       "      <th>ypa</th>\n",
       "      <th>n</th>\n",
       "    </tr>\n",
       "    <tr>\n",
       "      <th>passer_id</th>\n",
       "      <th>passer</th>\n",
       "      <th>season</th>\n",
       "      <th></th>\n",
       "      <th></th>\n",
       "    </tr>\n",
       "  </thead>\n",
       "  <tbody>\n",
       "    <tr>\n",
       "      <th>00-0023682</th>\n",
       "      <th>R.Fitzpatrick</th>\n",
       "      <th>2018</th>\n",
       "      <td>9.617887</td>\n",
       "      <td>246</td>\n",
       "    </tr>\n",
       "    <tr>\n",
       "      <th>00-0026143</th>\n",
       "      <th>M.Ryan</th>\n",
       "      <th>2016</th>\n",
       "      <td>9.442155</td>\n",
       "      <td>631</td>\n",
       "    </tr>\n",
       "    <tr>\n",
       "      <th>00-0029701</th>\n",
       "      <th>R.Tannehill</th>\n",
       "      <th>2019</th>\n",
       "      <td>9.069971</td>\n",
       "      <td>343</td>\n",
       "    </tr>\n",
       "    <tr>\n",
       "      <th>00-0033537</th>\n",
       "      <th>D.Watson</th>\n",
       "      <th>2020</th>\n",
       "      <td>8.898524</td>\n",
       "      <td>542</td>\n",
       "    </tr>\n",
       "    <tr>\n",
       "      <th>00-0036212</th>\n",
       "      <th>T.Tagovailoa</th>\n",
       "      <th>2022</th>\n",
       "      <td>8.892231</td>\n",
       "      <td>399</td>\n",
       "    </tr>\n",
       "    <tr>\n",
       "      <th>00-0031345</th>\n",
       "      <th>J.Garoppolo</th>\n",
       "      <th>2017</th>\n",
       "      <td>8.863636</td>\n",
       "      <td>176</td>\n",
       "    </tr>\n",
       "    <tr>\n",
       "      <th>00-0033873</th>\n",
       "      <th>P.Mahomes</th>\n",
       "      <th>2018</th>\n",
       "      <td>8.709678</td>\n",
       "      <td>651</td>\n",
       "    </tr>\n",
       "    <tr>\n",
       "      <th>00-0036442</th>\n",
       "      <th>J.Burrow</th>\n",
       "      <th>2021</th>\n",
       "      <td>8.673748</td>\n",
       "      <td>659</td>\n",
       "    </tr>\n",
       "    <tr>\n",
       "      <th>00-0026498</th>\n",
       "      <th>M.Stafford</th>\n",
       "      <th>2019</th>\n",
       "      <td>8.647058</td>\n",
       "      <td>289</td>\n",
       "    </tr>\n",
       "    <tr>\n",
       "      <th>00-0031345</th>\n",
       "      <th>J.Garoppolo</th>\n",
       "      <th>2021</th>\n",
       "      <td>8.502935</td>\n",
       "      <td>511</td>\n",
       "    </tr>\n",
       "    <tr>\n",
       "      <th>00-0033319</th>\n",
       "      <th>N.Mullens</th>\n",
       "      <th>2018</th>\n",
       "      <td>8.433333</td>\n",
       "      <td>270</td>\n",
       "    </tr>\n",
       "    <tr>\n",
       "      <th>00-0033537</th>\n",
       "      <th>D.Watson</th>\n",
       "      <th>2017</th>\n",
       "      <td>8.410892</td>\n",
       "      <td>202</td>\n",
       "    </tr>\n",
       "    <tr>\n",
       "      <th>00-0033077</th>\n",
       "      <th>D.Prescott</th>\n",
       "      <th>2020</th>\n",
       "      <td>8.398190</td>\n",
       "      <td>221</td>\n",
       "    </tr>\n",
       "    <tr>\n",
       "      <th>00-0034869</th>\n",
       "      <th>S.Darnold</th>\n",
       "      <th>2022</th>\n",
       "      <td>8.343065</td>\n",
       "      <td>137</td>\n",
       "    </tr>\n",
       "    <tr>\n",
       "      <th>00-0037834</th>\n",
       "      <th>B.Purdy</th>\n",
       "      <th>2022</th>\n",
       "      <td>8.339056</td>\n",
       "      <td>233</td>\n",
       "    </tr>\n",
       "    <tr>\n",
       "      <th>00-0029604</th>\n",
       "      <th>K.Cousins</th>\n",
       "      <th>2020</th>\n",
       "      <td>8.313840</td>\n",
       "      <td>513</td>\n",
       "    </tr>\n",
       "    <tr>\n",
       "      <th>00-0031345</th>\n",
       "      <th>J.Garoppolo</th>\n",
       "      <th>2019</th>\n",
       "      <td>8.280075</td>\n",
       "      <td>532</td>\n",
       "    </tr>\n",
       "    <tr>\n",
       "      <th>00-0025708</th>\n",
       "      <th>M.Moore</th>\n",
       "      <th>2016</th>\n",
       "      <td>8.278688</td>\n",
       "      <td>122</td>\n",
       "    </tr>\n",
       "    <tr>\n",
       "      <th>00-0033873</th>\n",
       "      <th>P.Mahomes</th>\n",
       "      <th>2019</th>\n",
       "      <td>8.275167</td>\n",
       "      <td>596</td>\n",
       "    </tr>\n",
       "    <tr>\n",
       "      <th>00-0020531</th>\n",
       "      <th>D.Brees</th>\n",
       "      <th>2017</th>\n",
       "      <td>8.257425</td>\n",
       "      <td>606</td>\n",
       "    </tr>\n",
       "  </tbody>\n",
       "</table>\n",
       "</div>"
      ],
      "text/plain": [
       "                                      ypa    n\n",
       "passer_id  passer        season               \n",
       "00-0023682 R.Fitzpatrick 2018    9.617887  246\n",
       "00-0026143 M.Ryan        2016    9.442155  631\n",
       "00-0029701 R.Tannehill   2019    9.069971  343\n",
       "00-0033537 D.Watson      2020    8.898524  542\n",
       "00-0036212 T.Tagovailoa  2022    8.892231  399\n",
       "00-0031345 J.Garoppolo   2017    8.863636  176\n",
       "00-0033873 P.Mahomes     2018    8.709678  651\n",
       "00-0036442 J.Burrow      2021    8.673748  659\n",
       "00-0026498 M.Stafford    2019    8.647058  289\n",
       "00-0031345 J.Garoppolo   2021    8.502935  511\n",
       "00-0033319 N.Mullens     2018    8.433333  270\n",
       "00-0033537 D.Watson      2017    8.410892  202\n",
       "00-0033077 D.Prescott    2020    8.398190  221\n",
       "00-0034869 S.Darnold     2022    8.343065  137\n",
       "00-0037834 B.Purdy       2022    8.339056  233\n",
       "00-0029604 K.Cousins     2020    8.313840  513\n",
       "00-0031345 J.Garoppolo   2019    8.280075  532\n",
       "00-0025708 M.Moore       2016    8.278688  122\n",
       "00-0033873 P.Mahomes     2019    8.275167  596\n",
       "00-0020531 D.Brees       2017    8.257425  606"
      ]
     },
     "execution_count": 19,
     "metadata": {},
     "output_type": "execute_result"
    }
   ],
   "source": [
    "pbp_py_p_s_100.head(20)"
   ]
  },
  {
   "cell_type": "code",
   "execution_count": 20,
   "id": "d971892b",
   "metadata": {},
   "outputs": [],
   "source": [
    "# pbp = play-by-play\n",
    "# language = python\n",
    "# passing play = p\n",
    "# seasons data = s\n",
    "# pass length = pl\n",
    "pbp_py_p_s_pl = pbp_py_p.groupby([\"passer_id\", \"passer\", \"season\",\n",
    "                                 \"pass_length_air_yards\"])\\\n",
    "                .agg({\"passing_yards\": [\"mean\", \"count\"]})"
   ]
  },
  {
   "cell_type": "code",
   "execution_count": 21,
   "id": "9281eda1",
   "metadata": {},
   "outputs": [
    {
     "data": {
      "text/html": [
       "<div>\n",
       "<style scoped>\n",
       "    .dataframe tbody tr th:only-of-type {\n",
       "        vertical-align: middle;\n",
       "    }\n",
       "\n",
       "    .dataframe tbody tr th {\n",
       "        vertical-align: top;\n",
       "    }\n",
       "\n",
       "    .dataframe thead tr th {\n",
       "        text-align: left;\n",
       "    }\n",
       "\n",
       "    .dataframe thead tr:last-of-type th {\n",
       "        text-align: right;\n",
       "    }\n",
       "</style>\n",
       "<table border=\"1\" class=\"dataframe\">\n",
       "  <thead>\n",
       "    <tr>\n",
       "      <th></th>\n",
       "      <th></th>\n",
       "      <th></th>\n",
       "      <th></th>\n",
       "      <th colspan=\"2\" halign=\"left\">passing_yards</th>\n",
       "    </tr>\n",
       "    <tr>\n",
       "      <th></th>\n",
       "      <th></th>\n",
       "      <th></th>\n",
       "      <th></th>\n",
       "      <th>mean</th>\n",
       "      <th>count</th>\n",
       "    </tr>\n",
       "    <tr>\n",
       "      <th>passer_id</th>\n",
       "      <th>passer</th>\n",
       "      <th>season</th>\n",
       "      <th>pass_length_air_yards</th>\n",
       "      <th></th>\n",
       "      <th></th>\n",
       "    </tr>\n",
       "  </thead>\n",
       "  <tbody>\n",
       "    <tr>\n",
       "      <th rowspan=\"5\" valign=\"top\">00-0019596</th>\n",
       "      <th rowspan=\"5\" valign=\"top\">T.Brady</th>\n",
       "      <th rowspan=\"2\" valign=\"top\">2016</th>\n",
       "      <th>long</th>\n",
       "      <td>15.768116</td>\n",
       "      <td>69</td>\n",
       "    </tr>\n",
       "    <tr>\n",
       "      <th>short</th>\n",
       "      <td>7.163022</td>\n",
       "      <td>503</td>\n",
       "    </tr>\n",
       "    <tr>\n",
       "      <th rowspan=\"2\" valign=\"top\">2017</th>\n",
       "      <th>long</th>\n",
       "      <td>13.264706</td>\n",
       "      <td>102</td>\n",
       "    </tr>\n",
       "    <tr>\n",
       "      <th>short</th>\n",
       "      <td>7.071429</td>\n",
       "      <td>616</td>\n",
       "    </tr>\n",
       "    <tr>\n",
       "      <th>2018</th>\n",
       "      <th>long</th>\n",
       "      <td>10.232877</td>\n",
       "      <td>73</td>\n",
       "    </tr>\n",
       "  </tbody>\n",
       "</table>\n",
       "</div>"
      ],
      "text/plain": [
       "                                                passing_yards      \n",
       "                                                         mean count\n",
       "passer_id  passer  season pass_length_air_yards                    \n",
       "00-0019596 T.Brady 2016   long                      15.768116    69\n",
       "                          short                      7.163022   503\n",
       "                   2017   long                      13.264706   102\n",
       "                          short                      7.071429   616\n",
       "                   2018   long                      10.232877    73"
      ]
     },
     "execution_count": 21,
     "metadata": {},
     "output_type": "execute_result"
    }
   ],
   "source": [
    "pbp_py_p_s_pl.head()"
   ]
  },
  {
   "cell_type": "code",
   "execution_count": 24,
   "id": "3bd89378",
   "metadata": {},
   "outputs": [],
   "source": [
    "# column name cleanup\n",
    "pbp_py_p_s_pl.columns = list(map(\"_\".join,\n",
    "                                pbp_py_p_s_pl.columns.values))\n",
    "pbp_py_p_s_pl.rename(columns={'passing_yards_mean': 'ypa',\n",
    "                             'passing_yards_count': 'n'},\n",
    "                    inplace=True)\n",
    "#reset index\n",
    "pbp_py_p_s_pl.reset_index(inplace=True)"
   ]
  },
  {
   "cell_type": "code",
   "execution_count": 26,
   "id": "3935d415",
   "metadata": {},
   "outputs": [
    {
     "data": {
      "text/html": [
       "<div>\n",
       "<style scoped>\n",
       "    .dataframe tbody tr th:only-of-type {\n",
       "        vertical-align: middle;\n",
       "    }\n",
       "\n",
       "    .dataframe tbody tr th {\n",
       "        vertical-align: top;\n",
       "    }\n",
       "\n",
       "    .dataframe thead th {\n",
       "        text-align: right;\n",
       "    }\n",
       "</style>\n",
       "<table border=\"1\" class=\"dataframe\">\n",
       "  <thead>\n",
       "    <tr style=\"text-align: right;\">\n",
       "      <th></th>\n",
       "      <th>passer_id</th>\n",
       "      <th>passer</th>\n",
       "      <th>season</th>\n",
       "      <th>pass_length_air_yards</th>\n",
       "      <th>ypa</th>\n",
       "      <th>n</th>\n",
       "    </tr>\n",
       "  </thead>\n",
       "  <tbody>\n",
       "    <tr>\n",
       "      <th>1081</th>\n",
       "      <td>00-0035544</td>\n",
       "      <td>T.Kennedy</td>\n",
       "      <td>2021</td>\n",
       "      <td>long</td>\n",
       "      <td>75.0</td>\n",
       "      <td>1</td>\n",
       "    </tr>\n",
       "    <tr>\n",
       "      <th>806</th>\n",
       "      <td>00-0033132</td>\n",
       "      <td>K.Byard</td>\n",
       "      <td>2018</td>\n",
       "      <td>short</td>\n",
       "      <td>66.0</td>\n",
       "      <td>1</td>\n",
       "    </tr>\n",
       "    <tr>\n",
       "      <th>765</th>\n",
       "      <td>00-0033098</td>\n",
       "      <td>C.Jones</td>\n",
       "      <td>2016</td>\n",
       "      <td>long</td>\n",
       "      <td>64.0</td>\n",
       "      <td>1</td>\n",
       "    </tr>\n",
       "    <tr>\n",
       "      <th>1187</th>\n",
       "      <td>00-0036929</td>\n",
       "      <td>I.Book</td>\n",
       "      <td>2021</td>\n",
       "      <td>long</td>\n",
       "      <td>56.0</td>\n",
       "      <td>1</td>\n",
       "    </tr>\n",
       "    <tr>\n",
       "      <th>620</th>\n",
       "      <td>00-0031503</td>\n",
       "      <td>J.Winston</td>\n",
       "      <td>2020</td>\n",
       "      <td>long</td>\n",
       "      <td>56.0</td>\n",
       "      <td>1</td>\n",
       "    </tr>\n",
       "  </tbody>\n",
       "</table>\n",
       "</div>"
      ],
      "text/plain": [
       "       passer_id     passer  season pass_length_air_yards   ypa  n\n",
       "1081  00-0035544  T.Kennedy    2021                  long  75.0  1\n",
       "806   00-0033132    K.Byard    2018                 short  66.0  1\n",
       "765   00-0033098    C.Jones    2016                  long  64.0  1\n",
       "1187  00-0036929     I.Book    2021                  long  56.0  1\n",
       "620   00-0031503  J.Winston    2020                  long  56.0  1"
      ]
     },
     "execution_count": 26,
     "metadata": {},
     "output_type": "execute_result"
    }
   ],
   "source": [
    "pbp_py_p_s_pl.sort_values(by=\"ypa\", ascending=False).head()"
   ]
  },
  {
   "cell_type": "code",
   "execution_count": 28,
   "id": "c7a3ea33",
   "metadata": {},
   "outputs": [],
   "source": [
    "# remove players w/ < 100 short passes in a season\n",
    "# remove players w/ < 30 long passes in a season\n",
    "q_value = ('(n >= 100 & ' + 'pass_length_air_yards == \"short\") | ' +\n",
    "          '(n >= 30 & ' + 'pass_length_air_yards == \"long\")'\n",
    "          )\n",
    "pbp_py_p_s_pl = pbp_py_p_s_pl.query(q_value).reset_index()\n",
    "\n",
    "# create list of columns to save (cols_save) and a new df w/ only these columns (air_yards_py)\n",
    "# include .copy so edits will not be passed back to original df\n",
    "cols_save = [\"passer_id\", \"passer\", \"season\", \"pass_length_air_yards\", \"ypa\"]\n",
    "air_yards_py = pbp_py_p_s_pl[cols_save].copy()"
   ]
  },
  {
   "cell_type": "code",
   "execution_count": 29,
   "id": "97032905",
   "metadata": {},
   "outputs": [],
   "source": [
    "# copy air_yards_py to create air_yards_lag_py\n",
    "# take the current season value and add 1 by using the += command\n",
    "# rename passing_yards_mean to include lag\n",
    "air_yards_lag_py = air_yards_py.copy()\n",
    "air_yards_lag_py[\"season\"] += 1\n",
    "air_yards_lag_py.rename(columns={'ypa': 'ypa_last'}, inplace=True)"
   ]
  },
  {
   "cell_type": "code",
   "execution_count": 30,
   "id": "c939d9a5",
   "metadata": {},
   "outputs": [],
   "source": [
    "# merge the two df together to create air_yards_both_py\n",
    "# using an inner join so only shared years will be saved\n",
    "# join on passer_id, passer, season & pass_length_air_yards\n",
    "pbp_py_p_s_pl = air_yards_py.merge(air_yards_lag_py, how='inner', \n",
    "                                  on=[\"passer_id\", \"passer\", \"season\", \"pass_length_air_yards\"])"
   ]
  },
  {
   "cell_type": "code",
   "execution_count": 31,
   "id": "fc45fbc5",
   "metadata": {},
   "outputs": [
    {
     "name": "stdout",
     "output_type": "stream",
     "text": [
      "   pass_length_air_yards     passer  season        ypa   ypa_last\n",
      "47                  long  A.Rodgers    2019  12.092592  12.011628\n",
      "49                  long  A.Rodgers    2020  16.097826  12.092592\n",
      "51                  long  A.Rodgers    2021  14.302631  16.097826\n",
      "53                  long  A.Rodgers    2022  10.312500  14.302631\n",
      "45                 short  A.Rodgers    2017   6.041475   6.693523\n",
      "46                 short  A.Rodgers    2018   6.697446   6.041475\n",
      "48                 short  A.Rodgers    2019   6.207224   6.697446\n",
      "50                 short  A.Rodgers    2020   6.718447   6.207224\n",
      "52                 short  A.Rodgers    2021   6.777083   6.718447\n",
      "54                 short  A.Rodgers    2022   6.239130   6.777083\n",
      "0                   long    T.Brady    2017  13.264706  15.768116\n",
      "2                   long    T.Brady    2018  10.232877  13.264706\n",
      "4                   long    T.Brady    2019  10.828571  10.232877\n",
      "6                   long    T.Brady    2020  12.252101  10.828571\n",
      "8                   long    T.Brady    2021  12.242424  12.252101\n",
      "10                  long    T.Brady    2022  10.802469  12.242424\n",
      "1                  short    T.Brady    2017   7.071429   7.163022\n",
      "3                  short    T.Brady    2018   7.356452   7.071429\n",
      "5                  short    T.Brady    2019   6.048276   7.356452\n",
      "7                  short    T.Brady    2020   6.777600   6.048276\n",
      "9                  short    T.Brady    2021   6.634697   6.777600\n",
      "11                 short    T.Brady    2022   5.832168   6.634697\n"
     ]
    }
   ],
   "source": [
    "# check your results\n",
    "print(pbp_py_p_s_pl[[\"pass_length_air_yards\", \"passer\", \"season\", \"ypa\", \"ypa_last\"]]\\\n",
    "                    .query('passer == \"T.Brady\" | passer == \"A.Rodgers\"')\\\n",
    "                    .sort_values([\"passer\", \"pass_length_air_yards\", \"season\"])\\\n",
    "                    .to_string()\n",
    ")"
   ]
  },
  {
   "cell_type": "code",
   "execution_count": 32,
   "id": "09028c6b",
   "metadata": {},
   "outputs": [
    {
     "name": "stdout",
     "output_type": "stream",
     "text": [
      "<class 'pandas.core.frame.DataFrame'>\n",
      "Int64Index: 317 entries, 0 to 316\n",
      "Data columns (total 6 columns):\n",
      " #   Column                 Non-Null Count  Dtype  \n",
      "---  ------                 --------------  -----  \n",
      " 0   passer_id              317 non-null    object \n",
      " 1   passer                 317 non-null    object \n",
      " 2   season                 317 non-null    int64  \n",
      " 3   pass_length_air_yards  317 non-null    object \n",
      " 4   ypa                    317 non-null    float32\n",
      " 5   ypa_last               317 non-null    float32\n",
      "dtypes: float32(2), int64(1), object(3)\n",
      "memory usage: 14.9+ KB\n"
     ]
    }
   ],
   "source": [
    "pbp_py_p_s_pl.info()"
   ]
  },
  {
   "cell_type": "code",
   "execution_count": 33,
   "id": "332eb492",
   "metadata": {},
   "outputs": [
    {
     "data": {
      "text/plain": [
       "65"
      ]
     },
     "execution_count": 33,
     "metadata": {},
     "output_type": "execute_result"
    }
   ],
   "source": [
    "# how many unique passers do we have?\n",
    "len(pbp_py_p_s_pl.passer_id.unique())"
   ]
  },
  {
   "cell_type": "code",
   "execution_count": 35,
   "id": "fb602cba",
   "metadata": {},
   "outputs": [
    {
     "data": {
      "text/plain": [
       "<Axes: xlabel='ypa', ylabel='ypa_last'>"
      ]
     },
     "execution_count": 35,
     "metadata": {},
     "output_type": "execute_result"
    },
    {
     "data": {
      "image/png": "[encoded data removed]",
      "text/plain": [
       "<Figure size 640x480 with 1 Axes>"
      ]
     },
     "metadata": {},
     "output_type": "display_data"
    }
   ],
   "source": [
    "sns.scatterplot(data=pbp_py_p_s_pl, x=\"ypa\", y=\"ypa_last\", hue=\"pass_length_air_yards\")"
   ]
  },
  {
   "cell_type": "code",
   "execution_count": 37,
   "id": "5db6e259",
   "metadata": {},
   "outputs": [
    {
     "data": {
      "image/png": "[encoded data removed]",
      "text/plain": [
       "<Figure size 680.222x500 with 1 Axes>"
      ]
     },
     "metadata": {},
     "output_type": "display_data"
    }
   ],
   "source": [
    "sns.lmplot(data=pbp_py_p_s_pl, x=\"ypa\", y=\"ypa_last\", hue=\"pass_length_air_yards\")\n",
    "plt.show()"
   ]
  },
  {
   "cell_type": "code",
   "execution_count": 38,
   "id": "4a692df6",
   "metadata": {},
   "outputs": [
    {
     "data": {
      "text/html": [
       "<div>\n",
       "<style scoped>\n",
       "    .dataframe tbody tr th:only-of-type {\n",
       "        vertical-align: middle;\n",
       "    }\n",
       "\n",
       "    .dataframe tbody tr th {\n",
       "        vertical-align: top;\n",
       "    }\n",
       "\n",
       "    .dataframe thead th {\n",
       "        text-align: right;\n",
       "    }\n",
       "</style>\n",
       "<table border=\"1\" class=\"dataframe\">\n",
       "  <thead>\n",
       "    <tr style=\"text-align: right;\">\n",
       "      <th></th>\n",
       "      <th></th>\n",
       "      <th>ypa</th>\n",
       "      <th>ypa_last</th>\n",
       "    </tr>\n",
       "    <tr>\n",
       "      <th>pass_length_air_yards</th>\n",
       "      <th></th>\n",
       "      <th></th>\n",
       "      <th></th>\n",
       "    </tr>\n",
       "  </thead>\n",
       "  <tbody>\n",
       "    <tr>\n",
       "      <th rowspan=\"2\" valign=\"top\">long</th>\n",
       "      <th>ypa</th>\n",
       "      <td>1.000000</td>\n",
       "      <td>0.233890</td>\n",
       "    </tr>\n",
       "    <tr>\n",
       "      <th>ypa_last</th>\n",
       "      <td>0.233890</td>\n",
       "      <td>1.000000</td>\n",
       "    </tr>\n",
       "    <tr>\n",
       "      <th rowspan=\"2\" valign=\"top\">short</th>\n",
       "      <th>ypa</th>\n",
       "      <td>1.000000</td>\n",
       "      <td>0.438479</td>\n",
       "    </tr>\n",
       "    <tr>\n",
       "      <th>ypa_last</th>\n",
       "      <td>0.438479</td>\n",
       "      <td>1.000000</td>\n",
       "    </tr>\n",
       "  </tbody>\n",
       "</table>\n",
       "</div>"
      ],
      "text/plain": [
       "                                     ypa  ypa_last\n",
       "pass_length_air_yards                             \n",
       "long                  ypa       1.000000  0.233890\n",
       "                      ypa_last  0.233890  1.000000\n",
       "short                 ypa       1.000000  0.438479\n",
       "                      ypa_last  0.438479  1.000000"
      ]
     },
     "execution_count": 38,
     "metadata": {},
     "output_type": "execute_result"
    }
   ],
   "source": [
    "# correlation\n",
    "pbp_py_p_s_pl.query(\"ypa.notnull() & ypa_last.notnull()\")\\\n",
    "                    .groupby(\"pass_length_air_yards\")[[\"ypa\", \"ypa_last\"]].corr()"
   ]
  },
  {
   "cell_type": "markdown",
   "id": "1d1ffb67",
   "metadata": {},
   "source": [
    "A QB's performance on shorter passes is nearly twice as stable as on longer passes."
   ]
  },
  {
   "cell_type": "code",
   "execution_count": 39,
   "id": "16a5a45a",
   "metadata": {},
   "outputs": [
    {
     "data": {
      "text/html": [
       "<div>\n",
       "<style scoped>\n",
       "    .dataframe tbody tr th:only-of-type {\n",
       "        vertical-align: middle;\n",
       "    }\n",
       "\n",
       "    .dataframe tbody tr th {\n",
       "        vertical-align: top;\n",
       "    }\n",
       "\n",
       "    .dataframe thead th {\n",
       "        text-align: right;\n",
       "    }\n",
       "</style>\n",
       "<table border=\"1\" class=\"dataframe\">\n",
       "  <thead>\n",
       "    <tr style=\"text-align: right;\">\n",
       "      <th></th>\n",
       "      <th>passer_id</th>\n",
       "      <th>passer</th>\n",
       "      <th>ypa</th>\n",
       "    </tr>\n",
       "  </thead>\n",
       "  <tbody>\n",
       "    <tr>\n",
       "      <th>41</th>\n",
       "      <td>00-0023436</td>\n",
       "      <td>A.Smith</td>\n",
       "      <td>19.338236</td>\n",
       "    </tr>\n",
       "    <tr>\n",
       "      <th>79</th>\n",
       "      <td>00-0026498</td>\n",
       "      <td>M.Stafford</td>\n",
       "      <td>17.830769</td>\n",
       "    </tr>\n",
       "    <tr>\n",
       "      <th>12</th>\n",
       "      <td>00-0020531</td>\n",
       "      <td>D.Brees</td>\n",
       "      <td>16.632353</td>\n",
       "    </tr>\n",
       "    <tr>\n",
       "      <th>191</th>\n",
       "      <td>00-0032950</td>\n",
       "      <td>C.Wentz</td>\n",
       "      <td>13.555555</td>\n",
       "    </tr>\n",
       "    <tr>\n",
       "      <th>33</th>\n",
       "      <td>00-0022942</td>\n",
       "      <td>P.Rivers</td>\n",
       "      <td>13.347826</td>\n",
       "    </tr>\n",
       "    <tr>\n",
       "      <th>0</th>\n",
       "      <td>00-0019596</td>\n",
       "      <td>T.Brady</td>\n",
       "      <td>13.264706</td>\n",
       "    </tr>\n",
       "    <tr>\n",
       "      <th>129</th>\n",
       "      <td>00-0029604</td>\n",
       "      <td>K.Cousins</td>\n",
       "      <td>12.847458</td>\n",
       "    </tr>\n",
       "    <tr>\n",
       "      <th>114</th>\n",
       "      <td>00-0029263</td>\n",
       "      <td>R.Wilson</td>\n",
       "      <td>12.738636</td>\n",
       "    </tr>\n",
       "    <tr>\n",
       "      <th>203</th>\n",
       "      <td>00-0033077</td>\n",
       "      <td>D.Prescott</td>\n",
       "      <td>12.585366</td>\n",
       "    </tr>\n",
       "    <tr>\n",
       "      <th>109</th>\n",
       "      <td>00-0028986</td>\n",
       "      <td>C.Keenum</td>\n",
       "      <td>11.904762</td>\n",
       "    </tr>\n",
       "  </tbody>\n",
       "</table>\n",
       "</div>"
      ],
      "text/plain": [
       "      passer_id      passer        ypa\n",
       "41   00-0023436     A.Smith  19.338236\n",
       "79   00-0026498  M.Stafford  17.830769\n",
       "12   00-0020531     D.Brees  16.632353\n",
       "191  00-0032950     C.Wentz  13.555555\n",
       "33   00-0022942    P.Rivers  13.347826\n",
       "0    00-0019596     T.Brady  13.264706\n",
       "129  00-0029604   K.Cousins  12.847458\n",
       "114  00-0029263    R.Wilson  12.738636\n",
       "203  00-0033077  D.Prescott  12.585366\n",
       "109  00-0028986    C.Keenum  11.904762"
      ]
     },
     "execution_count": 39,
     "metadata": {},
     "output_type": "execute_result"
    }
   ],
   "source": [
    "# 2017 leaderboard for deep passing YPA\n",
    "pbp_py_p_s_pl.query('pass_length_air_yards == \"long\" & season == 2017')\\\n",
    "                    [[\"passer_id\", \"passer\", \"ypa\"]]\\\n",
    "                    .sort_values([\"ypa\"], ascending=False).head(10)"
   ]
  },
  {
   "cell_type": "code",
   "execution_count": 40,
   "id": "41d27848",
   "metadata": {},
   "outputs": [
    {
     "data": {
      "text/html": [
       "<div>\n",
       "<style scoped>\n",
       "    .dataframe tbody tr th:only-of-type {\n",
       "        vertical-align: middle;\n",
       "    }\n",
       "\n",
       "    .dataframe tbody tr th {\n",
       "        vertical-align: top;\n",
       "    }\n",
       "\n",
       "    .dataframe thead th {\n",
       "        text-align: right;\n",
       "    }\n",
       "</style>\n",
       "<table border=\"1\" class=\"dataframe\">\n",
       "  <thead>\n",
       "    <tr style=\"text-align: right;\">\n",
       "      <th></th>\n",
       "      <th>passer_id</th>\n",
       "      <th>passer</th>\n",
       "      <th>ypa</th>\n",
       "    </tr>\n",
       "  </thead>\n",
       "  <tbody>\n",
       "    <tr>\n",
       "      <th>116</th>\n",
       "      <td>00-0029263</td>\n",
       "      <td>R.Wilson</td>\n",
       "      <td>15.597403</td>\n",
       "    </tr>\n",
       "    <tr>\n",
       "      <th>14</th>\n",
       "      <td>00-0020531</td>\n",
       "      <td>D.Brees</td>\n",
       "      <td>14.903226</td>\n",
       "    </tr>\n",
       "    <tr>\n",
       "      <th>205</th>\n",
       "      <td>00-0033077</td>\n",
       "      <td>D.Prescott</td>\n",
       "      <td>14.771930</td>\n",
       "    </tr>\n",
       "    <tr>\n",
       "      <th>214</th>\n",
       "      <td>00-0033106</td>\n",
       "      <td>J.Goff</td>\n",
       "      <td>14.445946</td>\n",
       "    </tr>\n",
       "    <tr>\n",
       "      <th>35</th>\n",
       "      <td>00-0022942</td>\n",
       "      <td>P.Rivers</td>\n",
       "      <td>14.357142</td>\n",
       "    </tr>\n",
       "    <tr>\n",
       "      <th>157</th>\n",
       "      <td>00-0031280</td>\n",
       "      <td>D.Carr</td>\n",
       "      <td>14.339286</td>\n",
       "    </tr>\n",
       "    <tr>\n",
       "      <th>188</th>\n",
       "      <td>00-0032268</td>\n",
       "      <td>M.Mariota</td>\n",
       "      <td>13.941176</td>\n",
       "    </tr>\n",
       "    <tr>\n",
       "      <th>64</th>\n",
       "      <td>00-0026143</td>\n",
       "      <td>M.Ryan</td>\n",
       "      <td>13.465754</td>\n",
       "    </tr>\n",
       "    <tr>\n",
       "      <th>193</th>\n",
       "      <td>00-0032950</td>\n",
       "      <td>C.Wentz</td>\n",
       "      <td>13.222222</td>\n",
       "    </tr>\n",
       "    <tr>\n",
       "      <th>24</th>\n",
       "      <td>00-0022803</td>\n",
       "      <td>E.Manning</td>\n",
       "      <td>12.941176</td>\n",
       "    </tr>\n",
       "  </tbody>\n",
       "</table>\n",
       "</div>"
      ],
      "text/plain": [
       "      passer_id      passer        ypa\n",
       "116  00-0029263    R.Wilson  15.597403\n",
       "14   00-0020531     D.Brees  14.903226\n",
       "205  00-0033077  D.Prescott  14.771930\n",
       "214  00-0033106      J.Goff  14.445946\n",
       "35   00-0022942    P.Rivers  14.357142\n",
       "157  00-0031280      D.Carr  14.339286\n",
       "188  00-0032268   M.Mariota  13.941176\n",
       "64   00-0026143      M.Ryan  13.465754\n",
       "193  00-0032950     C.Wentz  13.222222\n",
       "24   00-0022803   E.Manning  12.941176"
      ]
     },
     "execution_count": 40,
     "metadata": {},
     "output_type": "execute_result"
    }
   ],
   "source": [
    "# 2018 leaderboard for deep passing YPA\n",
    "pbp_py_p_s_pl.query('pass_length_air_yards == \"long\" & season == 2018')\\\n",
    "                    [[\"passer_id\", \"passer\", \"ypa\"]]\\\n",
    "                    .sort_values([\"ypa\"], ascending=False).head(10)"
   ]
  },
  {
   "cell_type": "markdown",
   "id": "9e9dde0c",
   "metadata": {},
   "source": [
    "## Exercises\n",
    "\n",
    "1) Create the same histograms but for EPA per pass attempt."
   ]
  },
  {
   "cell_type": "code",
   "execution_count": null,
   "id": "d25afc0a",
   "metadata": {},
   "outputs": [],
   "source": []
  },
  {
   "cell_type": "markdown",
   "id": "a9371fc3",
   "metadata": {},
   "source": [
    "2) Create the same boxplots but for EPA per pass attempt."
   ]
  },
  {
   "cell_type": "code",
   "execution_count": null,
   "id": "cfe7e175",
   "metadata": {},
   "outputs": [],
   "source": []
  },
  {
   "cell_type": "markdown",
   "id": "6a002377",
   "metadata": {},
   "source": [
    "3) Perform the same stability analysis but for EPA per pass attempt.\n",
    "    - Do you see the same qualitative results as when you use YPA?\n",
    "    - Do any players have similar YPA numbers one year to the next but have drastically different EPA per pass\n",
    "        attempt numbers across years? Where could these differences come from?"
   ]
  },
  {
   "cell_type": "code",
   "execution_count": null,
   "id": "3250791f",
   "metadata": {},
   "outputs": [],
   "source": []
  },
  {
   "cell_type": "markdown",
   "id": "e1167c49",
   "metadata": {},
   "source": [
    "4) One of the reasons that data for long pass attempts is less stable than short pass attempts is that there are fewer of them, which is largely a product of 20 yards being an arbitrary cutoff for long passes. Find a cutoff that equally splits the data and perform the same analysis. Do the results stay the same?"
   ]
  },
  {
   "cell_type": "code",
   "execution_count": null,
   "id": "3b327034",
   "metadata": {},
   "outputs": [],
   "source": []
  }
 ],
 "metadata": {
  "kernelspec": {
   "display_name": "Python 3 (ipykernel)",
   "language": "python",
   "name": "python3"
  },
  "language_info": {
   "codemirror_mode": {
    "name": "ipython",
    "version": 3
   },
   "file_extension": ".py",
   "mimetype": "text/x-python",
   "name": "python",
   "nbconvert_exporter": "python",
   "pygments_lexer": "ipython3",
   "version": "3.10.9"
  }
 },
 "nbformat": 4,
 "nbformat_minor": 5
}
